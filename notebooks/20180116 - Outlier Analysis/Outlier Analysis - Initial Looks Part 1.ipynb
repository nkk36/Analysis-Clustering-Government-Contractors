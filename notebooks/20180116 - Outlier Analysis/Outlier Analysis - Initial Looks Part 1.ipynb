{
 "cells": [
  {
   "cell_type": "markdown",
   "metadata": {},
   "source": [
    "# Outlier Analysis - Initial Looks Part 1\n",
    "\n",
    "Behind the clusters that I found [here](http://www.nkallfa.com/shiny/Similar-Government-Contractors-App/app/) I used singular value decomposition (SVD) to reduce my data to 5 dimensions. You can get an idea of the shape of your data by plotting the singular vectors against one another. Let's take a look at the plot of the top two singular vectors against one another and then let's plot all 5 against each other. "
   ]
  },
  {
   "cell_type": "code",
   "execution_count": 1,
   "metadata": {},
   "outputs": [
    {
     "data": {
      "image/png": "[encoded data removed]",
      "text/plain": [
       "<IPython.core.display.Image object>"
      ]
     },
     "execution_count": 1,
     "metadata": {},
     "output_type": "execute_result"
    }
   ],
   "source": [
    "from IPython.display import Image\n",
    "Image(filename=\"..\\\\..\\\\figs\\\\top_2_singular_vectors_unique_piids.png\")"
   ]
  },
  {
   "cell_type": "code",
   "execution_count": 2,
   "metadata": {},
   "outputs": [
    {
     "data": {
      "image/png": "[encoded data removed]",
      "text/plain": [
       "<IPython.core.display.Image object>"
      ]
     },
     "execution_count": 2,
     "metadata": {},
     "output_type": "execute_result"
    }
   ],
   "source": [
    "from IPython.display import Image\n",
    "Image(filename=\"..\\\\..\\\\figs\\\\all_5_singular_vectors_unique_piids.png\")"
   ]
  },
  {
   "cell_type": "markdown",
   "metadata": {},
   "source": [
    "Notice that almost all of the points are concentrated in a tiny corner of the plots. This is not what we want to see when we reduce dimensions. We want to reduce the dimensionality of the data and then cluster on the reduced space. If I were to cluster on this data I'd probably get a few small-sized clusters and then one really large cluster that contains most of the companies. It's basically completely meaningless, so let's try to explain why I think I am getting what I am getting. \n",
    "\n",
    "Let's recall the underlying data I use prior to clustering. The data represents counts of the number of \"contracts\" a company has under each NAICS code. While this sounds simple enough it's slightly more complicated than that because of how I am counting contracts. FPDS data contain a procurement instrument identifier (PIID) which is a unique ID assigned to each solicitation, contract, agreement, or order a company makes with the government. I try to get an accurate count of the number of contracts a company has by counting the number of unique PIIDs under each NAICS code. Since a PIID can be used for other things besides contract counting unique PIIDs is not a good representation. This leads to very skewed data. First of all, it's very sparse (mostly zeros) and most companies have just a handful of unique PIIDs. Meanwhile, because a PIID is used for more than just contracts there are some companies that have tens of thousands of unique PIIDs. \n",
    "\n",
    "In this notebook I thought I could start exploring the data (prior to clustering) to give a sense of the types of problems I am dealing with. In particular, I want to explore the outliers in my data set: those companies with lots of unique PIIDs. Let's take a look at some of these outliers as well as the distribution of the data."
   ]
  },
  {
   "cell_type": "markdown",
   "metadata": {},
   "source": [
    "### Import packages"
   ]
  },
  {
   "cell_type": "code",
   "execution_count": 3,
   "metadata": {
    "collapsed": true
   },
   "outputs": [],
   "source": [
    "import pandas as pd\n",
    "import seaborn as sns\n",
    "%matplotlib inline"
   ]
  },
  {
   "cell_type": "markdown",
   "metadata": {},
   "source": [
    "### Load and Preview Data"
   ]
  },
  {
   "cell_type": "code",
   "execution_count": 4,
   "metadata": {
    "collapsed": true
   },
   "outputs": [],
   "source": [
    "df_original = pd.read_csv(filepath_or_buffer = \"..\\\\..\\\\data\\\\1_raw_data_from_database.csv\", \n",
    "                          sep = \"\\t\")"
   ]
  },
  {
   "cell_type": "code",
   "execution_count": 5,
   "metadata": {},
   "outputs": [
    {
     "data": {
      "text/html": [
       "<div>\n",
       "<style>\n",
       "    .dataframe thead tr:only-child th {\n",
       "        text-align: right;\n",
       "    }\n",
       "\n",
       "    .dataframe thead th {\n",
       "        text-align: left;\n",
       "    }\n",
       "\n",
       "    .dataframe tbody tr th {\n",
       "        vertical-align: top;\n",
       "    }\n",
       "</style>\n",
       "<table border=\"1\" class=\"dataframe\">\n",
       "  <thead>\n",
       "    <tr style=\"text-align: right;\">\n",
       "      <th></th>\n",
       "      <th>dollarsobligated</th>\n",
       "      <th>contractactiontype</th>\n",
       "      <th>typeofcontractpricing</th>\n",
       "      <th>vendorname</th>\n",
       "      <th>dunsnumber</th>\n",
       "      <th>parentdunsnumber</th>\n",
       "      <th>psc_cat</th>\n",
       "      <th>productorservicecode</th>\n",
       "      <th>principalnaicscode</th>\n",
       "      <th>piid</th>\n",
       "      <th>modnumber</th>\n",
       "    </tr>\n",
       "  </thead>\n",
       "  <tbody>\n",
       "    <tr>\n",
       "      <th>0</th>\n",
       "      <td>112000.0</td>\n",
       "      <td>DO Delivery Order</td>\n",
       "      <td>J: FIRM FIXED PRICE</td>\n",
       "      <td>E H A R C INC</td>\n",
       "      <td>194058574.0</td>\n",
       "      <td>194058574.0</td>\n",
       "      <td>G</td>\n",
       "      <td>G004: SOCIAL- SOCIAL REHABILITATION</td>\n",
       "      <td>623990: OTHER RESIDENTIAL CARE FACILITIES</td>\n",
       "      <td>VA26116J5000</td>\n",
       "      <td>0</td>\n",
       "    </tr>\n",
       "    <tr>\n",
       "      <th>1</th>\n",
       "      <td>45000.0</td>\n",
       "      <td>PO Purchase Order</td>\n",
       "      <td>J: FIRM FIXED PRICE</td>\n",
       "      <td>PEREGRINE INTEGRATED MANAGEMENT, INC</td>\n",
       "      <td>964585058.0</td>\n",
       "      <td>964585058.0</td>\n",
       "      <td>U</td>\n",
       "      <td>U099: EDUCATION/TRAINING- OTHER</td>\n",
       "      <td>611430: PROFESSIONAL AND MANAGEMENT DEVELOPMEN...</td>\n",
       "      <td>VA26315P1022</td>\n",
       "      <td>0</td>\n",
       "    </tr>\n",
       "    <tr>\n",
       "      <th>2</th>\n",
       "      <td>2680.0</td>\n",
       "      <td>DCA Definitive Contract</td>\n",
       "      <td>J: FIRM FIXED PRICE</td>\n",
       "      <td>ADVANCED TECHNOLOGY SOLUTIONS, INC.</td>\n",
       "      <td>178077905.0</td>\n",
       "      <td>178077905.0</td>\n",
       "      <td>R</td>\n",
       "      <td>R702: SUPPORT- MANAGEMENT: DATA COLLECTION</td>\n",
       "      <td>561440: COLLECTION AGENCIES</td>\n",
       "      <td>VA263P1401</td>\n",
       "      <td>P00005</td>\n",
       "    </tr>\n",
       "    <tr>\n",
       "      <th>3</th>\n",
       "      <td>5000.0</td>\n",
       "      <td>DCA Definitive Contract</td>\n",
       "      <td>J: FIRM FIXED PRICE</td>\n",
       "      <td>HAAS GROUP INTERNATIONAL INC.</td>\n",
       "      <td>2275782.0</td>\n",
       "      <td>809073245.0</td>\n",
       "      <td>F</td>\n",
       "      <td>F999: OTHER ENVIRONMENTAL SERVICES</td>\n",
       "      <td>541620: ENVIRONMENTAL CONSULTING SERVICES</td>\n",
       "      <td>VA528P0961</td>\n",
       "      <td>P00007</td>\n",
       "    </tr>\n",
       "    <tr>\n",
       "      <th>4</th>\n",
       "      <td>0.0</td>\n",
       "      <td>DO Delivery Order</td>\n",
       "      <td>J: FIRM FIXED PRICE</td>\n",
       "      <td>RADIOMETER AMERICA INC.</td>\n",
       "      <td>86661485.0</td>\n",
       "      <td>24744476.0</td>\n",
       "      <td>66</td>\n",
       "      <td>6630: CHEMICAL ANALYSIS INSTRUMENTS</td>\n",
       "      <td>334516: ANALYTICAL LABORATORY INSTRUMENT MANUF...</td>\n",
       "      <td>VA549C20155</td>\n",
       "      <td>P00007</td>\n",
       "    </tr>\n",
       "  </tbody>\n",
       "</table>\n",
       "</div>"
      ],
      "text/plain": [
       "   dollarsobligated       contractactiontype typeofcontractpricing  \\\n",
       "0          112000.0        DO Delivery Order   J: FIRM FIXED PRICE   \n",
       "1           45000.0        PO Purchase Order   J: FIRM FIXED PRICE   \n",
       "2            2680.0  DCA Definitive Contract   J: FIRM FIXED PRICE   \n",
       "3            5000.0  DCA Definitive Contract   J: FIRM FIXED PRICE   \n",
       "4               0.0        DO Delivery Order   J: FIRM FIXED PRICE   \n",
       "\n",
       "                             vendorname   dunsnumber  parentdunsnumber  \\\n",
       "0                         E H A R C INC  194058574.0       194058574.0   \n",
       "1  PEREGRINE INTEGRATED MANAGEMENT, INC  964585058.0       964585058.0   \n",
       "2   ADVANCED TECHNOLOGY SOLUTIONS, INC.  178077905.0       178077905.0   \n",
       "3         HAAS GROUP INTERNATIONAL INC.    2275782.0       809073245.0   \n",
       "4               RADIOMETER AMERICA INC.   86661485.0        24744476.0   \n",
       "\n",
       "  psc_cat                        productorservicecode  \\\n",
       "0       G         G004: SOCIAL- SOCIAL REHABILITATION   \n",
       "1       U             U099: EDUCATION/TRAINING- OTHER   \n",
       "2       R  R702: SUPPORT- MANAGEMENT: DATA COLLECTION   \n",
       "3       F          F999: OTHER ENVIRONMENTAL SERVICES   \n",
       "4      66         6630: CHEMICAL ANALYSIS INSTRUMENTS   \n",
       "\n",
       "                                  principalnaicscode          piid modnumber  \n",
       "0          623990: OTHER RESIDENTIAL CARE FACILITIES  VA26116J5000         0  \n",
       "1  611430: PROFESSIONAL AND MANAGEMENT DEVELOPMEN...  VA26315P1022         0  \n",
       "2                        561440: COLLECTION AGENCIES    VA263P1401    P00005  \n",
       "3          541620: ENVIRONMENTAL CONSULTING SERVICES    VA528P0961    P00007  \n",
       "4  334516: ANALYTICAL LABORATORY INSTRUMENT MANUF...   VA549C20155    P00007  "
      ]
     },
     "metadata": {},
     "output_type": "display_data"
    }
   ],
   "source": [
    "display(df_original.head(5))"
   ]
  },
  {
   "cell_type": "markdown",
   "metadata": {},
   "source": [
    "The data seen above comes directly from FPDS after removing all unnecessary columns. Some of the important fields I have been using are parentdunsnumber, principalnaicscode, dollarsobligated, and piid.\n",
    "\n",
    "Before we start looking at some of the outliers we need to get one vendor name for each DUNS number. This isn't necessary, but I'd rather read a vendor name instead of a DUNS number. One simple way of doing that is grouping by the DUNS number and vendor name and count the number of times each vendor name appears in the data taking the most frequent vendor name. The next block of code does that for us. "
   ]
  },
  {
   "cell_type": "markdown",
   "metadata": {},
   "source": [
    "### Get 1 vendorname for each parent DUNS number"
   ]
  },
  {
   "cell_type": "code",
   "execution_count": 6,
   "metadata": {},
   "outputs": [
    {
     "data": {
      "text/html": [
       "<div>\n",
       "<style>\n",
       "    .dataframe thead tr:only-child th {\n",
       "        text-align: right;\n",
       "    }\n",
       "\n",
       "    .dataframe thead th {\n",
       "        text-align: left;\n",
       "    }\n",
       "\n",
       "    .dataframe tbody tr th {\n",
       "        vertical-align: top;\n",
       "    }\n",
       "</style>\n",
       "<table border=\"1\" class=\"dataframe\">\n",
       "  <thead>\n",
       "    <tr style=\"text-align: right;\">\n",
       "      <th></th>\n",
       "      <th>parentdunsnumber</th>\n",
       "      <th>vendorname</th>\n",
       "    </tr>\n",
       "  </thead>\n",
       "  <tbody>\n",
       "    <tr>\n",
       "      <th>0</th>\n",
       "      <td>989977066.0</td>\n",
       "      <td>JAZZ PHARMACEUTICALS, INC.</td>\n",
       "    </tr>\n",
       "    <tr>\n",
       "      <th>1</th>\n",
       "      <td>989145297.0</td>\n",
       "      <td>REALTIME TECHNOLOGIES LIMITED</td>\n",
       "    </tr>\n",
       "    <tr>\n",
       "      <th>2</th>\n",
       "      <td>988981601.0</td>\n",
       "      <td>STATISTICAL SOLUTIONS LTD</td>\n",
       "    </tr>\n",
       "    <tr>\n",
       "      <th>3</th>\n",
       "      <td>988946034.0</td>\n",
       "      <td>G4S GLOBAL RISKS LIMITED</td>\n",
       "    </tr>\n",
       "    <tr>\n",
       "      <th>4</th>\n",
       "      <td>988819256.0</td>\n",
       "      <td>BACON-UNIVERSAL COMPANY, INC.</td>\n",
       "    </tr>\n",
       "  </tbody>\n",
       "</table>\n",
       "</div>"
      ],
      "text/plain": [
       "   parentdunsnumber                     vendorname\n",
       "0       989977066.0     JAZZ PHARMACEUTICALS, INC.\n",
       "1       989145297.0  REALTIME TECHNOLOGIES LIMITED\n",
       "2       988981601.0      STATISTICAL SOLUTIONS LTD\n",
       "3       988946034.0       G4S GLOBAL RISKS LIMITED\n",
       "4       988819256.0  BACON-UNIVERSAL COMPANY, INC."
      ]
     },
     "execution_count": 6,
     "metadata": {},
     "output_type": "execute_result"
    }
   ],
   "source": [
    "vendornames = pd.DataFrame(df_original.groupby([\"parentdunsnumber\", \"vendorname\"]).vendorname.agg([\"count\"]).reset_index())\n",
    "vendornames.sort_values(by = [\"parentdunsnumber\",\"count\"],\n",
    "                        ascending = False,\n",
    "                        inplace = True)\n",
    "vendornames = vendornames.groupby(\"parentdunsnumber\").head(1).reset_index(drop = True).drop(labels = \"count\", \n",
    "                                                                                            axis = 1)\n",
    "vendornames.head(5)"
   ]
  },
  {
   "cell_type": "markdown",
   "metadata": {},
   "source": [
    "### Count Number of Unique PIIDs, Sort, and Return Top 10\n",
    "Now that we have one vendor name for each unique DUNS number, we can start looking at some of the outliers in the data. Let's count the number of unique PIIDs for each DUNS number and return the top 10."
   ]
  },
  {
   "cell_type": "code",
   "execution_count": 7,
   "metadata": {
    "collapsed": true
   },
   "outputs": [],
   "source": [
    "n_contracts = pd.DataFrame(df_original.groupby([\"parentdunsnumber\"]).piid.nunique().reset_index())\n",
    "total_obligated = pd.DataFrame(df_original.groupby([\"parentdunsnumber\"]).dollarsobligated.sum().reset_index())\n",
    "n_contracts.parentdunsnumber.apply(str)\n",
    "total_obligated.parentdunsnumber.apply(str)\n",
    "n_contract_total_obligated = n_contracts.merge(right = total_obligated,\n",
    "                                               on = \"parentdunsnumber\",\n",
    "                                               how = \"left\")\n",
    "n_contract_total_obligated.sort_values(by = \"piid\",\n",
    "                                       ascending = False,\n",
    "                                       inplace = True)\n"
   ]
  },
  {
   "cell_type": "markdown",
   "metadata": {},
   "source": [
    "# Data Distribution\n",
    "\n",
    "Let's try to get a first glimpse of what our data looks like. I've taken the first 5 columns of our data (NAICS coes 111110, 111120, 111130, 111140, 111150) and stacked the columns on top of one another keeping track of what NAICS code it belongs to. I show the first five rows of this table below. If we went down far enough in this table we would eventually see the other NAICS codes. \n",
    "\n",
    "Using this table I group by each unique NAICS-value combination counting the number of times they appear. You can see this in the second block of code below."
   ]
  },
  {
   "cell_type": "code",
   "execution_count": 58,
   "metadata": {},
   "outputs": [
    {
     "data": {
      "text/html": [
       "<div>\n",
       "<style>\n",
       "    .dataframe thead tr:only-child th {\n",
       "        text-align: right;\n",
       "    }\n",
       "\n",
       "    .dataframe thead th {\n",
       "        text-align: left;\n",
       "    }\n",
       "\n",
       "    .dataframe tbody tr th {\n",
       "        vertical-align: top;\n",
       "    }\n",
       "</style>\n",
       "<table border=\"1\" class=\"dataframe\">\n",
       "  <thead>\n",
       "    <tr style=\"text-align: right;\">\n",
       "      <th></th>\n",
       "      <th>NAICS</th>\n",
       "      <th>Value</th>\n",
       "    </tr>\n",
       "  </thead>\n",
       "  <tbody>\n",
       "    <tr>\n",
       "      <th>0</th>\n",
       "      <td>111110</td>\n",
       "      <td>0</td>\n",
       "    </tr>\n",
       "    <tr>\n",
       "      <th>1</th>\n",
       "      <td>111110</td>\n",
       "      <td>0</td>\n",
       "    </tr>\n",
       "    <tr>\n",
       "      <th>2</th>\n",
       "      <td>111110</td>\n",
       "      <td>0</td>\n",
       "    </tr>\n",
       "    <tr>\n",
       "      <th>3</th>\n",
       "      <td>111110</td>\n",
       "      <td>0</td>\n",
       "    </tr>\n",
       "    <tr>\n",
       "      <th>4</th>\n",
       "      <td>111110</td>\n",
       "      <td>0</td>\n",
       "    </tr>\n",
       "  </tbody>\n",
       "</table>\n",
       "</div>"
      ],
      "text/plain": [
       "    NAICS  Value\n",
       "0  111110      0\n",
       "1  111110      0\n",
       "2  111110      0\n",
       "3  111110      0\n",
       "4  111110      0"
      ]
     },
     "execution_count": 58,
     "metadata": {},
     "output_type": "execute_result"
    }
   ],
   "source": [
    "first_5_naics = pd.read_csv(filepath_or_buffer = \"..\\\\..\\\\data\\\\first_5_naics_melted.csv\", \n",
    "                          sep = \",\")\n",
    "first_5_naics.columns = [\"NAICS\", \"Value\"]\n",
    "first_5_naics.head()"
   ]
  },
  {
   "cell_type": "code",
   "execution_count": 59,
   "metadata": {},
   "outputs": [
    {
     "data": {
      "text/html": [
       "<div>\n",
       "<style>\n",
       "    .dataframe thead tr:only-child th {\n",
       "        text-align: right;\n",
       "    }\n",
       "\n",
       "    .dataframe thead th {\n",
       "        text-align: left;\n",
       "    }\n",
       "\n",
       "    .dataframe tbody tr th {\n",
       "        vertical-align: top;\n",
       "    }\n",
       "</style>\n",
       "<table border=\"1\" class=\"dataframe\">\n",
       "  <thead>\n",
       "    <tr style=\"text-align: right;\">\n",
       "      <th></th>\n",
       "      <th>NAICS</th>\n",
       "      <th>Value</th>\n",
       "      <th>Occurences</th>\n",
       "    </tr>\n",
       "  </thead>\n",
       "  <tbody>\n",
       "    <tr>\n",
       "      <th>0</th>\n",
       "      <td>111110</td>\n",
       "      <td>0</td>\n",
       "      <td>132147</td>\n",
       "    </tr>\n",
       "    <tr>\n",
       "      <th>1</th>\n",
       "      <td>111110</td>\n",
       "      <td>1</td>\n",
       "      <td>24</td>\n",
       "    </tr>\n",
       "    <tr>\n",
       "      <th>2</th>\n",
       "      <td>111110</td>\n",
       "      <td>2</td>\n",
       "      <td>4</td>\n",
       "    </tr>\n",
       "    <tr>\n",
       "      <th>3</th>\n",
       "      <td>111110</td>\n",
       "      <td>3</td>\n",
       "      <td>1</td>\n",
       "    </tr>\n",
       "    <tr>\n",
       "      <th>4</th>\n",
       "      <td>111110</td>\n",
       "      <td>7</td>\n",
       "      <td>1</td>\n",
       "    </tr>\n",
       "    <tr>\n",
       "      <th>5</th>\n",
       "      <td>111120</td>\n",
       "      <td>0</td>\n",
       "      <td>132171</td>\n",
       "    </tr>\n",
       "    <tr>\n",
       "      <th>6</th>\n",
       "      <td>111120</td>\n",
       "      <td>1</td>\n",
       "      <td>5</td>\n",
       "    </tr>\n",
       "    <tr>\n",
       "      <th>7</th>\n",
       "      <td>111120</td>\n",
       "      <td>6</td>\n",
       "      <td>1</td>\n",
       "    </tr>\n",
       "    <tr>\n",
       "      <th>8</th>\n",
       "      <td>111130</td>\n",
       "      <td>0</td>\n",
       "      <td>132168</td>\n",
       "    </tr>\n",
       "    <tr>\n",
       "      <th>9</th>\n",
       "      <td>111130</td>\n",
       "      <td>1</td>\n",
       "      <td>9</td>\n",
       "    </tr>\n",
       "    <tr>\n",
       "      <th>10</th>\n",
       "      <td>111140</td>\n",
       "      <td>0</td>\n",
       "      <td>132167</td>\n",
       "    </tr>\n",
       "    <tr>\n",
       "      <th>11</th>\n",
       "      <td>111140</td>\n",
       "      <td>1</td>\n",
       "      <td>9</td>\n",
       "    </tr>\n",
       "    <tr>\n",
       "      <th>12</th>\n",
       "      <td>111140</td>\n",
       "      <td>2</td>\n",
       "      <td>1</td>\n",
       "    </tr>\n",
       "    <tr>\n",
       "      <th>13</th>\n",
       "      <td>111150</td>\n",
       "      <td>0</td>\n",
       "      <td>132155</td>\n",
       "    </tr>\n",
       "    <tr>\n",
       "      <th>14</th>\n",
       "      <td>111150</td>\n",
       "      <td>1</td>\n",
       "      <td>20</td>\n",
       "    </tr>\n",
       "    <tr>\n",
       "      <th>15</th>\n",
       "      <td>111150</td>\n",
       "      <td>2</td>\n",
       "      <td>1</td>\n",
       "    </tr>\n",
       "    <tr>\n",
       "      <th>16</th>\n",
       "      <td>111150</td>\n",
       "      <td>4</td>\n",
       "      <td>1</td>\n",
       "    </tr>\n",
       "  </tbody>\n",
       "</table>\n",
       "</div>"
      ],
      "text/plain": [
       "     NAICS  Value  Occurences\n",
       "0   111110      0      132147\n",
       "1   111110      1          24\n",
       "2   111110      2           4\n",
       "3   111110      3           1\n",
       "4   111110      7           1\n",
       "5   111120      0      132171\n",
       "6   111120      1           5\n",
       "7   111120      6           1\n",
       "8   111130      0      132168\n",
       "9   111130      1           9\n",
       "10  111140      0      132167\n",
       "11  111140      1           9\n",
       "12  111140      2           1\n",
       "13  111150      0      132155\n",
       "14  111150      1          20\n",
       "15  111150      2           1\n",
       "16  111150      4           1"
      ]
     },
     "execution_count": 59,
     "metadata": {},
     "output_type": "execute_result"
    }
   ],
   "source": [
    "count_values = first_5_naics.groupby([\"NAICS\", \"Value\"]).size()\n",
    "naics_value_counts = count_values.to_frame(name = \"Occurences\").reset_index()\n",
    "naics_value_counts.columns = [\"NAICS\", \"Value\", \"Occurences\"]\n",
    "naics_value_counts"
   ]
  },
  {
   "cell_type": "markdown",
   "metadata": {},
   "source": [
    "The data is very sparse so that's something we are going to have to deal with if we want to get meaningful clusters. If we take a closer look at the distribution of the number of unique PIIDs we see an extremely skewed distribution. **75% of the companies have only 1-5 unique PIIDs, whereas the maximum has 101,410!** It's issues like this with the underlying shape of the data that I believe is causing issues with the dimensionality reduction and, ultimately, with the clustering as well. "
   ]
  },
  {
   "cell_type": "code",
   "execution_count": 81,
   "metadata": {},
   "outputs": [
    {
     "data": {
      "text/plain": [
       "<matplotlib.axes._subplots.AxesSubplot at 0x1a209985080>"
      ]
     },
     "execution_count": 81,
     "metadata": {},
     "output_type": "execute_result"
    },
    {
     "data": {
      "image/png": "[encoded data removed]",
      "text/plain": [
       "<matplotlib.figure.Figure at 0x1a209985780>"
      ]
     },
     "metadata": {},
     "output_type": "display_data"
    }
   ],
   "source": [
    "sns.distplot(a = n_contract_total_obligated.piid)"
   ]
  },
  {
   "cell_type": "code",
   "execution_count": 82,
   "metadata": {},
   "outputs": [
    {
     "data": {
      "text/plain": [
       "count    132729.000000\n",
       "mean         24.317308\n",
       "std         583.922276\n",
       "min           1.000000\n",
       "25%           1.000000\n",
       "50%           2.000000\n",
       "75%           5.000000\n",
       "max      101410.000000\n",
       "Name: piid, dtype: float64"
      ]
     },
     "execution_count": 82,
     "metadata": {},
     "output_type": "execute_result"
    }
   ],
   "source": [
    "n_contract_total_obligated.piid.describe()"
   ]
  },
  {
   "cell_type": "markdown",
   "metadata": {},
   "source": [
    "# Top 10 PIID Counts\n",
    "\n",
    "Now that we know a bit about the distribution let's look at the companies that have the most unique PIID counts and see if we can begin to understand why. "
   ]
  },
  {
   "cell_type": "code",
   "execution_count": 83,
   "metadata": {},
   "outputs": [
    {
     "data": {
      "text/html": [
       "<div>\n",
       "<style>\n",
       "    .dataframe thead tr:only-child th {\n",
       "        text-align: right;\n",
       "    }\n",
       "\n",
       "    .dataframe thead th {\n",
       "        text-align: left;\n",
       "    }\n",
       "\n",
       "    .dataframe tbody tr th {\n",
       "        vertical-align: top;\n",
       "    }\n",
       "</style>\n",
       "<table border=\"1\" class=\"dataframe\">\n",
       "  <thead>\n",
       "    <tr style=\"text-align: right;\">\n",
       "      <th></th>\n",
       "      <th>parentdunsnumber</th>\n",
       "      <th>piid</th>\n",
       "      <th>dollarsobligated</th>\n",
       "      <th>vendorname</th>\n",
       "    </tr>\n",
       "  </thead>\n",
       "  <tbody>\n",
       "    <tr>\n",
       "      <th>0</th>\n",
       "      <td>834951691.0</td>\n",
       "      <td>101410</td>\n",
       "      <td>4.332757e+10</td>\n",
       "      <td>LOCKHEED MARTIN CORPORATION</td>\n",
       "    </tr>\n",
       "    <tr>\n",
       "      <th>1</th>\n",
       "      <td>97537435.0</td>\n",
       "      <td>72163</td>\n",
       "      <td>8.911149e+08</td>\n",
       "      <td>CARDINAL HEALTH 200, LLC</td>\n",
       "    </tr>\n",
       "    <tr>\n",
       "      <th>2</th>\n",
       "      <td>847412269.0</td>\n",
       "      <td>66608</td>\n",
       "      <td>2.214639e+08</td>\n",
       "      <td>OWENS &amp; MINOR DISTRIBUTION, INC.</td>\n",
       "    </tr>\n",
       "    <tr>\n",
       "      <th>3</th>\n",
       "      <td>177667227.0</td>\n",
       "      <td>55561</td>\n",
       "      <td>8.635390e+09</td>\n",
       "      <td>MCKESSON CORPORATION</td>\n",
       "    </tr>\n",
       "    <tr>\n",
       "      <th>4</th>\n",
       "      <td>78745061.0</td>\n",
       "      <td>48497</td>\n",
       "      <td>3.254708e+09</td>\n",
       "      <td>SCIENCE APPLICATIONS INTERNATIONAL CORPORATION</td>\n",
       "    </tr>\n",
       "    <tr>\n",
       "      <th>5</th>\n",
       "      <td>12430880.0</td>\n",
       "      <td>48218</td>\n",
       "      <td>3.558737e+07</td>\n",
       "      <td>HENRY SCHEIN, INC.</td>\n",
       "    </tr>\n",
       "    <tr>\n",
       "      <th>6</th>\n",
       "      <td>123456787.0</td>\n",
       "      <td>43256</td>\n",
       "      <td>1.210826e+09</td>\n",
       "      <td>MISCELLANEOUS FOREIGN AWARDEES</td>\n",
       "    </tr>\n",
       "    <tr>\n",
       "      <th>7</th>\n",
       "      <td>116057019.0</td>\n",
       "      <td>40889</td>\n",
       "      <td>2.707047e+08</td>\n",
       "      <td>SUPPLYCORE INC.</td>\n",
       "    </tr>\n",
       "    <tr>\n",
       "      <th>8</th>\n",
       "      <td>5070479.0</td>\n",
       "      <td>40695</td>\n",
       "      <td>2.222620e+08</td>\n",
       "      <td>CATERPILLAR INC.</td>\n",
       "    </tr>\n",
       "    <tr>\n",
       "      <th>9</th>\n",
       "      <td>75553560.0</td>\n",
       "      <td>38985</td>\n",
       "      <td>1.760567e+07</td>\n",
       "      <td>EASTERN CAROLINA VOCATIONAL CENTER, INC.</td>\n",
       "    </tr>\n",
       "  </tbody>\n",
       "</table>\n",
       "</div>"
      ],
      "text/plain": [
       "   parentdunsnumber    piid  dollarsobligated  \\\n",
       "0       834951691.0  101410      4.332757e+10   \n",
       "1        97537435.0   72163      8.911149e+08   \n",
       "2       847412269.0   66608      2.214639e+08   \n",
       "3       177667227.0   55561      8.635390e+09   \n",
       "4        78745061.0   48497      3.254708e+09   \n",
       "5        12430880.0   48218      3.558737e+07   \n",
       "6       123456787.0   43256      1.210826e+09   \n",
       "7       116057019.0   40889      2.707047e+08   \n",
       "8         5070479.0   40695      2.222620e+08   \n",
       "9        75553560.0   38985      1.760567e+07   \n",
       "\n",
       "                                       vendorname  \n",
       "0                     LOCKHEED MARTIN CORPORATION  \n",
       "1                        CARDINAL HEALTH 200, LLC  \n",
       "2                OWENS & MINOR DISTRIBUTION, INC.  \n",
       "3                            MCKESSON CORPORATION  \n",
       "4  SCIENCE APPLICATIONS INTERNATIONAL CORPORATION  \n",
       "5                              HENRY SCHEIN, INC.  \n",
       "6                  MISCELLANEOUS FOREIGN AWARDEES  \n",
       "7                                 SUPPLYCORE INC.  \n",
       "8                                CATERPILLAR INC.  \n",
       "9        EASTERN CAROLINA VOCATIONAL CENTER, INC.  "
      ]
     },
     "execution_count": 83,
     "metadata": {},
     "output_type": "execute_result"
    }
   ],
   "source": [
    "top_10_piid = n_contract_total_obligated.head(10)\n",
    "top_10_piid.merge(right = vendornames,\n",
    "                  on = \"parentdunsnumber\",\n",
    "                  how = \"left\")"
   ]
  },
  {
   "cell_type": "markdown",
   "metadata": {},
   "source": [
    "Some companies on this list are familiar to me (Lockheed Martin, SAIC , McKeeson Corporation, Caterpillar) and others I have never heard of (Cardinal Health, Owens & Minor, Henry Schein, Eastern Carolina Vocational Center, Supplycore). However, there seems to be some common threads: Cardinal Health, Owens & Minor, McKeeson Corporation, and Henry Schein are all involved in the health care industry. Eastern Carolina Vocational Center is an employment services organization for people with disabilities in Eastern North Carolina and SupplyCore seems to be involved in logistics from what I read online. Let's just take a closer look at the top 5 and see what NAICS codes are most common."
   ]
  },
  {
   "cell_type": "markdown",
   "metadata": {},
   "source": [
    "## Lockheed Martin\n",
    "\n",
    "Almost all of the PIIDs for Lockheed Martin are in 332710: Machine Shops which comprises establishments primarily engaged in machining metal and plastic parts and parts of other composite materials on a job or order basis. [Lockheed Martin](https://en.wikipedia.org/wiki/Lockheed_Martin) is an aerospace, defense, security and technologies company. This doesn't appear to give the best representation of what Lockheed Martin does."
   ]
  },
  {
   "cell_type": "code",
   "execution_count": 84,
   "metadata": {},
   "outputs": [
    {
     "data": {
      "text/html": [
       "<div>\n",
       "<style>\n",
       "    .dataframe thead tr:only-child th {\n",
       "        text-align: right;\n",
       "    }\n",
       "\n",
       "    .dataframe thead th {\n",
       "        text-align: left;\n",
       "    }\n",
       "\n",
       "    .dataframe tbody tr th {\n",
       "        vertical-align: top;\n",
       "    }\n",
       "</style>\n",
       "<table border=\"1\" class=\"dataframe\">\n",
       "  <thead>\n",
       "    <tr style=\"text-align: right;\">\n",
       "      <th></th>\n",
       "      <th>principalnaicscode</th>\n",
       "      <th>piid</th>\n",
       "    </tr>\n",
       "  </thead>\n",
       "  <tbody>\n",
       "    <tr>\n",
       "      <th>22</th>\n",
       "      <td>332710: MACHINE SHOPS</td>\n",
       "      <td>96007</td>\n",
       "    </tr>\n",
       "    <tr>\n",
       "      <th>80</th>\n",
       "      <td>336411: AIRCRAFT MANUFACTURING</td>\n",
       "      <td>5236</td>\n",
       "    </tr>\n",
       "    <tr>\n",
       "      <th>82</th>\n",
       "      <td>336413: OTHER AIRCRAFT PARTS AND AUXILIARY EQU...</td>\n",
       "      <td>4492</td>\n",
       "    </tr>\n",
       "    <tr>\n",
       "      <th>23</th>\n",
       "      <td>332722: BOLT, NUT, SCREW, RIVET, AND WASHER MA...</td>\n",
       "      <td>1369</td>\n",
       "    </tr>\n",
       "    <tr>\n",
       "      <th>116</th>\n",
       "      <td>541330: ENGINEERING SERVICES</td>\n",
       "      <td>1094</td>\n",
       "    </tr>\n",
       "    <tr>\n",
       "      <th>140</th>\n",
       "      <td>561990: ALL OTHER SUPPORT SERVICES</td>\n",
       "      <td>582</td>\n",
       "    </tr>\n",
       "    <tr>\n",
       "      <th>53</th>\n",
       "      <td>334412: BARE PRINTED CIRCUIT BOARD MANUFACTURING</td>\n",
       "      <td>361</td>\n",
       "    </tr>\n",
       "    <tr>\n",
       "      <th>59</th>\n",
       "      <td>334511: SEARCH, DETECTION, NAVIGATION, GUIDANC...</td>\n",
       "      <td>276</td>\n",
       "    </tr>\n",
       "    <tr>\n",
       "      <th>119</th>\n",
       "      <td>541512: COMPUTER SYSTEMS DESIGN SERVICES</td>\n",
       "      <td>269</td>\n",
       "    </tr>\n",
       "    <tr>\n",
       "      <th>129</th>\n",
       "      <td>541712: RESEARCH AND DEVELOPMENT IN THE PHYSIC...</td>\n",
       "      <td>223</td>\n",
       "    </tr>\n",
       "  </tbody>\n",
       "</table>\n",
       "</div>"
      ],
      "text/plain": [
       "                                    principalnaicscode   piid\n",
       "22                               332710: MACHINE SHOPS  96007\n",
       "80                      336411: AIRCRAFT MANUFACTURING   5236\n",
       "82   336413: OTHER AIRCRAFT PARTS AND AUXILIARY EQU...   4492\n",
       "23   332722: BOLT, NUT, SCREW, RIVET, AND WASHER MA...   1369\n",
       "116                       541330: ENGINEERING SERVICES   1094\n",
       "140                 561990: ALL OTHER SUPPORT SERVICES    582\n",
       "53    334412: BARE PRINTED CIRCUIT BOARD MANUFACTURING    361\n",
       "59   334511: SEARCH, DETECTION, NAVIGATION, GUIDANC...    276\n",
       "119           541512: COMPUTER SYSTEMS DESIGN SERVICES    269\n",
       "129  541712: RESEARCH AND DEVELOPMENT IN THE PHYSIC...    223"
      ]
     },
     "execution_count": 84,
     "metadata": {},
     "output_type": "execute_result"
    }
   ],
   "source": [
    "Lockheed = df_original.loc[df_original.parentdunsnumber == 834951691,].groupby([\"principalnaicscode\"]).piid.nunique().reset_index()\n",
    "Lockheed.sort_values(by = \"piid\",\n",
    "                     ascending = False,\n",
    "                     inplace = True)\n",
    "Lockheed.head(10)"
   ]
  },
  {
   "cell_type": "markdown",
   "metadata": {},
   "source": [
    "## Cardinal Health 200\n",
    "\n",
    "Most of the PIIDs for Cardinal Health fall under 423450: Medical, Dental, and Hospital Equipment and Supplies Merchant Wholesalers. This code is for companies engaged in the merchant wholesale distribution of professional medical equipment, instruments, and supplies. It's definitely relevant for a company that [specializes in distribution of pharmaceuticals and medical products](https://en.wikipedia.org/wiki/Cardinal_Health), but maybe it gives too much weight to one NAICS code.  "
   ]
  },
  {
   "cell_type": "code",
   "execution_count": 85,
   "metadata": {},
   "outputs": [
    {
     "data": {
      "text/html": [
       "<div>\n",
       "<style>\n",
       "    .dataframe thead tr:only-child th {\n",
       "        text-align: right;\n",
       "    }\n",
       "\n",
       "    .dataframe thead th {\n",
       "        text-align: left;\n",
       "    }\n",
       "\n",
       "    .dataframe tbody tr th {\n",
       "        vertical-align: top;\n",
       "    }\n",
       "</style>\n",
       "<table border=\"1\" class=\"dataframe\">\n",
       "  <thead>\n",
       "    <tr style=\"text-align: right;\">\n",
       "      <th></th>\n",
       "      <th>principalnaicscode</th>\n",
       "      <th>piid</th>\n",
       "    </tr>\n",
       "  </thead>\n",
       "  <tbody>\n",
       "    <tr>\n",
       "      <th>13</th>\n",
       "      <td>423450: MEDICAL, DENTAL, AND HOSPITAL EQUIPMEN...</td>\n",
       "      <td>65805</td>\n",
       "    </tr>\n",
       "    <tr>\n",
       "      <th>1</th>\n",
       "      <td>325412: PHARMACEUTICAL PREPARATION MANUFACTURING</td>\n",
       "      <td>5676</td>\n",
       "    </tr>\n",
       "    <tr>\n",
       "      <th>0</th>\n",
       "      <td>325411: MEDICINAL AND BOTANICAL MANUFACTURING</td>\n",
       "      <td>2037</td>\n",
       "    </tr>\n",
       "    <tr>\n",
       "      <th>10</th>\n",
       "      <td>339112: SURGICAL AND MEDICAL INSTRUMENT MANUFA...</td>\n",
       "      <td>434</td>\n",
       "    </tr>\n",
       "    <tr>\n",
       "      <th>11</th>\n",
       "      <td>339113: SURGICAL APPLIANCE AND SUPPLIES MANUFA...</td>\n",
       "      <td>139</td>\n",
       "    </tr>\n",
       "    <tr>\n",
       "      <th>14</th>\n",
       "      <td>424210: DRUGS AND DRUGGISTS' SUNDRIES MERCHANT...</td>\n",
       "      <td>19</td>\n",
       "    </tr>\n",
       "    <tr>\n",
       "      <th>7</th>\n",
       "      <td>334516: ANALYTICAL LABORATORY INSTRUMENT MANUF...</td>\n",
       "      <td>17</td>\n",
       "    </tr>\n",
       "    <tr>\n",
       "      <th>30</th>\n",
       "      <td>811219: OTHER ELECTRONIC AND PRECISION EQUIPME...</td>\n",
       "      <td>7</td>\n",
       "    </tr>\n",
       "    <tr>\n",
       "      <th>2</th>\n",
       "      <td>325413: IN-VITRO DIAGNOSTIC SUBSTANCE MANUFACT...</td>\n",
       "      <td>6</td>\n",
       "    </tr>\n",
       "    <tr>\n",
       "      <th>12</th>\n",
       "      <td>339999: ALL OTHER MISCELLANEOUS MANUFACTURING</td>\n",
       "      <td>5</td>\n",
       "    </tr>\n",
       "  </tbody>\n",
       "</table>\n",
       "</div>"
      ],
      "text/plain": [
       "                                   principalnaicscode   piid\n",
       "13  423450: MEDICAL, DENTAL, AND HOSPITAL EQUIPMEN...  65805\n",
       "1    325412: PHARMACEUTICAL PREPARATION MANUFACTURING   5676\n",
       "0       325411: MEDICINAL AND BOTANICAL MANUFACTURING   2037\n",
       "10  339112: SURGICAL AND MEDICAL INSTRUMENT MANUFA...    434\n",
       "11  339113: SURGICAL APPLIANCE AND SUPPLIES MANUFA...    139\n",
       "14  424210: DRUGS AND DRUGGISTS' SUNDRIES MERCHANT...     19\n",
       "7   334516: ANALYTICAL LABORATORY INSTRUMENT MANUF...     17\n",
       "30  811219: OTHER ELECTRONIC AND PRECISION EQUIPME...      7\n",
       "2   325413: IN-VITRO DIAGNOSTIC SUBSTANCE MANUFACT...      6\n",
       "12      339999: ALL OTHER MISCELLANEOUS MANUFACTURING      5"
      ]
     },
     "execution_count": 85,
     "metadata": {},
     "output_type": "execute_result"
    }
   ],
   "source": [
    "Cardinal_Health = df_original.loc[df_original.parentdunsnumber == 97537435,].groupby([\"principalnaicscode\"]).piid.nunique().reset_index()\n",
    "Cardinal_Health.sort_values(by = \"piid\",\n",
    "                            ascending = False,\n",
    "                            inplace = True)\n",
    "Cardinal_Health.head(10)"
   ]
  },
  {
   "cell_type": "markdown",
   "metadata": {},
   "source": [
    "## Owens and Minor\n",
    "\n",
    "Owens & Minor is similar to Cardinal Health in that most of its PIIDs fall under 423450 again, but there is only one other NAICS code they use. This actually seems to get at what Owens and Minor do from skimming their Wikipedia page [here](https://en.wikipedia.org/wiki/Owens_%26_Minor)."
   ]
  },
  {
   "cell_type": "code",
   "execution_count": 86,
   "metadata": {},
   "outputs": [
    {
     "data": {
      "text/html": [
       "<div>\n",
       "<style>\n",
       "    .dataframe thead tr:only-child th {\n",
       "        text-align: right;\n",
       "    }\n",
       "\n",
       "    .dataframe thead th {\n",
       "        text-align: left;\n",
       "    }\n",
       "\n",
       "    .dataframe tbody tr th {\n",
       "        vertical-align: top;\n",
       "    }\n",
       "</style>\n",
       "<table border=\"1\" class=\"dataframe\">\n",
       "  <thead>\n",
       "    <tr style=\"text-align: right;\">\n",
       "      <th></th>\n",
       "      <th>principalnaicscode</th>\n",
       "      <th>piid</th>\n",
       "    </tr>\n",
       "  </thead>\n",
       "  <tbody>\n",
       "    <tr>\n",
       "      <th>1</th>\n",
       "      <td>423450: MEDICAL, DENTAL, AND HOSPITAL EQUIPMEN...</td>\n",
       "      <td>66575</td>\n",
       "    </tr>\n",
       "    <tr>\n",
       "      <th>0</th>\n",
       "      <td>339113: SURGICAL APPLIANCE AND SUPPLIES MANUFA...</td>\n",
       "      <td>33</td>\n",
       "    </tr>\n",
       "  </tbody>\n",
       "</table>\n",
       "</div>"
      ],
      "text/plain": [
       "                                  principalnaicscode   piid\n",
       "1  423450: MEDICAL, DENTAL, AND HOSPITAL EQUIPMEN...  66575\n",
       "0  339113: SURGICAL APPLIANCE AND SUPPLIES MANUFA...     33"
      ]
     },
     "execution_count": 86,
     "metadata": {},
     "output_type": "execute_result"
    }
   ],
   "source": [
    "Owen_Minor = df_original.loc[df_original.parentdunsnumber == 847412269,].groupby([\"principalnaicscode\"]).piid.nunique().reset_index()\n",
    "Owen_Minor.sort_values(by = \"piid\",\n",
    "                            ascending = False,\n",
    "                            inplace = True)\n",
    "Owen_Minor.head(10)"
   ]
  },
  {
   "cell_type": "markdown",
   "metadata": {},
   "source": [
    "## McKeeson Corporation\n",
    "\n",
    "Most of their NAICS codes are under 325411: Medicinal and Botanical Manufacturing. This code consists of companies engaged in the following:\n",
    "\n",
    "1. Manufacturing uncompounded medicinal chemicals and their derivatives (i.e., generally for use by pharmaceutical preparation manufacturers) and/or\n",
    "2. Grading, grinding, and milling uncompounded botanicals.\n",
    "\n",
    "According to [Wikipedia](https://en.wikipedia.org/wiki/McKesson_Corporation) the company distributes pharmaceuticals and provides health information technology, medical supplies, and care management tools. This seems to get at what they do, but should it really represent 85% of their unique PIIDs? I'm not sure."
   ]
  },
  {
   "cell_type": "code",
   "execution_count": 87,
   "metadata": {},
   "outputs": [
    {
     "data": {
      "text/html": [
       "<div>\n",
       "<style>\n",
       "    .dataframe thead tr:only-child th {\n",
       "        text-align: right;\n",
       "    }\n",
       "\n",
       "    .dataframe thead th {\n",
       "        text-align: left;\n",
       "    }\n",
       "\n",
       "    .dataframe tbody tr th {\n",
       "        vertical-align: top;\n",
       "    }\n",
       "</style>\n",
       "<table border=\"1\" class=\"dataframe\">\n",
       "  <thead>\n",
       "    <tr style=\"text-align: right;\">\n",
       "      <th></th>\n",
       "      <th>principalnaicscode</th>\n",
       "      <th>piid</th>\n",
       "    </tr>\n",
       "  </thead>\n",
       "  <tbody>\n",
       "    <tr>\n",
       "      <th>1</th>\n",
       "      <td>325411: MEDICINAL AND BOTANICAL MANUFACTURING</td>\n",
       "      <td>47387</td>\n",
       "    </tr>\n",
       "    <tr>\n",
       "      <th>2</th>\n",
       "      <td>325412: PHARMACEUTICAL PREPARATION MANUFACTURING</td>\n",
       "      <td>7071</td>\n",
       "    </tr>\n",
       "    <tr>\n",
       "      <th>15</th>\n",
       "      <td>424210: DRUGS AND DRUGGISTS' SUNDRIES MERCHANT...</td>\n",
       "      <td>662</td>\n",
       "    </tr>\n",
       "    <tr>\n",
       "      <th>16</th>\n",
       "      <td>446110: PHARMACIES AND DRUG STORES</td>\n",
       "      <td>208</td>\n",
       "    </tr>\n",
       "    <tr>\n",
       "      <th>14</th>\n",
       "      <td>423450: MEDICAL, DENTAL, AND HOSPITAL EQUIPMEN...</td>\n",
       "      <td>114</td>\n",
       "    </tr>\n",
       "    <tr>\n",
       "      <th>31</th>\n",
       "      <td>622110: GENERAL MEDICAL AND SURGICAL HOSPITALS</td>\n",
       "      <td>23</td>\n",
       "    </tr>\n",
       "    <tr>\n",
       "      <th>11</th>\n",
       "      <td>339113: SURGICAL APPLIANCE AND SUPPLIES MANUFA...</td>\n",
       "      <td>23</td>\n",
       "    </tr>\n",
       "    <tr>\n",
       "      <th>10</th>\n",
       "      <td>339112: SURGICAL AND MEDICAL INSTRUMENT MANUFA...</td>\n",
       "      <td>15</td>\n",
       "    </tr>\n",
       "    <tr>\n",
       "      <th>19</th>\n",
       "      <td>511210: SOFTWARE PUBLISHERS</td>\n",
       "      <td>12</td>\n",
       "    </tr>\n",
       "    <tr>\n",
       "      <th>4</th>\n",
       "      <td>325414: BIOLOGICAL PRODUCT (EXCEPT DIAGNOSTIC)...</td>\n",
       "      <td>8</td>\n",
       "    </tr>\n",
       "  </tbody>\n",
       "</table>\n",
       "</div>"
      ],
      "text/plain": [
       "                                   principalnaicscode   piid\n",
       "1       325411: MEDICINAL AND BOTANICAL MANUFACTURING  47387\n",
       "2    325412: PHARMACEUTICAL PREPARATION MANUFACTURING   7071\n",
       "15  424210: DRUGS AND DRUGGISTS' SUNDRIES MERCHANT...    662\n",
       "16                 446110: PHARMACIES AND DRUG STORES    208\n",
       "14  423450: MEDICAL, DENTAL, AND HOSPITAL EQUIPMEN...    114\n",
       "31     622110: GENERAL MEDICAL AND SURGICAL HOSPITALS     23\n",
       "11  339113: SURGICAL APPLIANCE AND SUPPLIES MANUFA...     23\n",
       "10  339112: SURGICAL AND MEDICAL INSTRUMENT MANUFA...     15\n",
       "19                        511210: SOFTWARE PUBLISHERS     12\n",
       "4   325414: BIOLOGICAL PRODUCT (EXCEPT DIAGNOSTIC)...      8"
      ]
     },
     "execution_count": 87,
     "metadata": {},
     "output_type": "execute_result"
    }
   ],
   "source": [
    "Mckeeson_Corp = df_original.loc[df_original.parentdunsnumber == 177667227,].groupby([\"principalnaicscode\"]).piid.nunique().reset_index()\n",
    "Mckeeson_Corp.sort_values(by = \"piid\",\n",
    "                            ascending = False,\n",
    "                            inplace = True)\n",
    "Mckeeson_Corp.head(10)"
   ]
  },
  {
   "cell_type": "markdown",
   "metadata": {},
   "source": [
    "## SAIC\n",
    "\n",
    "Finally we have SAIC which I was surprised to learn had a lot of PIIDs under 326211: Tire Manufacturing. This code is for companies engaged in manufacturing tires and inner tubes from natural and synthetic rubber. I have heard of SAIC before and have seen job postings they have for data scientists, software engineers, etc... I was surprised to learn they also make tires! If you read on [Wikipedia](https://en.wikipedia.org/wiki/Science_Applications_International_Corporation) you'll see that SAIC is known for providing government services and IT support. Nowhere in there does it say they are known for tire manufacturing yet almost 80% of their unique PIIDs fall under this code. Aside from 332510: Hardware Manufacturing and 541330: Engineering Services I don't see any NAICS codes that would seemingly fall under government services and IT support. This gives an unrealistic representation of the company!"
   ]
  },
  {
   "cell_type": "code",
   "execution_count": 88,
   "metadata": {},
   "outputs": [
    {
     "data": {
      "text/html": [
       "<div>\n",
       "<style>\n",
       "    .dataframe thead tr:only-child th {\n",
       "        text-align: right;\n",
       "    }\n",
       "\n",
       "    .dataframe thead th {\n",
       "        text-align: left;\n",
       "    }\n",
       "\n",
       "    .dataframe tbody tr th {\n",
       "        vertical-align: top;\n",
       "    }\n",
       "</style>\n",
       "<table border=\"1\" class=\"dataframe\">\n",
       "  <thead>\n",
       "    <tr style=\"text-align: right;\">\n",
       "      <th></th>\n",
       "      <th>principalnaicscode</th>\n",
       "      <th>piid</th>\n",
       "    </tr>\n",
       "  </thead>\n",
       "  <tbody>\n",
       "    <tr>\n",
       "      <th>6</th>\n",
       "      <td>326211: TIRE MANUFACTURING (EXCEPT RETREADING)</td>\n",
       "      <td>38773</td>\n",
       "    </tr>\n",
       "    <tr>\n",
       "      <th>96</th>\n",
       "      <td>423610: ELECTRICAL APPARATUS AND EQUIPMENT, WI...</td>\n",
       "      <td>15520</td>\n",
       "    </tr>\n",
       "    <tr>\n",
       "      <th>47</th>\n",
       "      <td>333999: ALL OTHER MISCELLANEOUS GENERAL PURPOS...</td>\n",
       "      <td>8032</td>\n",
       "    </tr>\n",
       "    <tr>\n",
       "      <th>87</th>\n",
       "      <td>336411: AIRCRAFT MANUFACTURING</td>\n",
       "      <td>2595</td>\n",
       "    </tr>\n",
       "    <tr>\n",
       "      <th>20</th>\n",
       "      <td>332510: HARDWARE MANUFACTURING</td>\n",
       "      <td>1178</td>\n",
       "    </tr>\n",
       "    <tr>\n",
       "      <th>109</th>\n",
       "      <td>541330: ENGINEERING SERVICES</td>\n",
       "      <td>507</td>\n",
       "    </tr>\n",
       "    <tr>\n",
       "      <th>26</th>\n",
       "      <td>332911: INDUSTRIAL VALVE MANUFACTURING</td>\n",
       "      <td>426</td>\n",
       "    </tr>\n",
       "    <tr>\n",
       "      <th>25</th>\n",
       "      <td>332722: BOLT, NUT, SCREW, RIVET, AND WASHER MA...</td>\n",
       "      <td>257</td>\n",
       "    </tr>\n",
       "    <tr>\n",
       "      <th>59</th>\n",
       "      <td>334419: OTHER ELECTRONIC COMPONENT MANUFACTURING</td>\n",
       "      <td>211</td>\n",
       "    </tr>\n",
       "    <tr>\n",
       "      <th>94</th>\n",
       "      <td>339991: GASKET, PACKING, AND SEALING DEVICE MA...</td>\n",
       "      <td>208</td>\n",
       "    </tr>\n",
       "  </tbody>\n",
       "</table>\n",
       "</div>"
      ],
      "text/plain": [
       "                                    principalnaicscode   piid\n",
       "6       326211: TIRE MANUFACTURING (EXCEPT RETREADING)  38773\n",
       "96   423610: ELECTRICAL APPARATUS AND EQUIPMENT, WI...  15520\n",
       "47   333999: ALL OTHER MISCELLANEOUS GENERAL PURPOS...   8032\n",
       "87                      336411: AIRCRAFT MANUFACTURING   2595\n",
       "20                      332510: HARDWARE MANUFACTURING   1178\n",
       "109                       541330: ENGINEERING SERVICES    507\n",
       "26              332911: INDUSTRIAL VALVE MANUFACTURING    426\n",
       "25   332722: BOLT, NUT, SCREW, RIVET, AND WASHER MA...    257\n",
       "59    334419: OTHER ELECTRONIC COMPONENT MANUFACTURING    211\n",
       "94   339991: GASKET, PACKING, AND SEALING DEVICE MA...    208"
      ]
     },
     "execution_count": 88,
     "metadata": {},
     "output_type": "execute_result"
    }
   ],
   "source": [
    "SAIC = df_original.loc[df_original.parentdunsnumber == 78745061,].groupby([\"principalnaicscode\"]).piid.nunique().reset_index()\n",
    "SAIC.sort_values(by = \"piid\",\n",
    "                            ascending = False,\n",
    "                            inplace = True)\n",
    "SAIC.head(10)"
   ]
  },
  {
   "cell_type": "markdown",
   "metadata": {},
   "source": [
    "# Conclusion\n",
    "\n",
    "The approach I am taking by counting the number of unique PIIDs as a proxy for the number of contracts a company has is flawed. Originally it was a promising idea, but there are specific characteristics about the data that make clustering difficult. Part of the problem is determining what those characteristics are. For now, I believe the problem is I am dealing with count data (discrete, non-negative numbers) that are highly skewed. Clustering this type of data likely requires specialized methods beyond PCA/SVD for dimensionality reduction and K-Means/Hierarchical clustering.\n",
    "\n",
    "One of my goals for this project is to do some research into techniques I could use. I've already found a few things to look into: \n",
    "\n",
    "1. There is this paper [here](http://journals.plos.org/plosone/article?id=10.1371/journal.pone.0162259) that introduces a technique for clustering count data (MAP-DP). \n",
    "2. I also found some python code by Max Little that looks promising to implement MAP-DP [here](http://www.maxlittle.net/software/). \n",
    "\n",
    "In addition to looking at specialized techniques there might also be ways to subset the data to remove some of this misleading information. There are a couple columns (contract action type and type of contract pricing) that warrant further exploration. As of today, these are the two avenues I am thinking of pursuing to improve my results."
   ]
  },
  {
   "cell_type": "code",
   "execution_count": null,
   "metadata": {
    "collapsed": true
   },
   "outputs": [],
   "source": []
  }
 ],
 "metadata": {
  "kernelspec": {
   "display_name": "Python 3",
   "language": "python",
   "name": "python3"
  },
  "language_info": {
   "codemirror_mode": {
    "name": "ipython",
    "version": 3
   },
   "file_extension": ".py",
   "mimetype": "text/x-python",
   "name": "python",
   "nbconvert_exporter": "python",
   "pygments_lexer": "ipython3",
   "version": "3.6.3"
  }
 },
 "nbformat": 4,
 "nbformat_minor": 2
}
